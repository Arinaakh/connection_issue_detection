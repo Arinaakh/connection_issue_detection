{
 "cells": [
  {
   "cell_type": "markdown",
   "id": "b91c7b14",
   "metadata": {},
   "source": [
    "## Connection Issue Detection Project"
   ]
  },
  {
   "cell_type": "markdown",
   "id": "d8728d69",
   "metadata": {},
   "source": [
    "### Import requirement libraries"
   ]
  },
  {
   "cell_type": "code",
   "execution_count": null,
   "id": "initial_id",
   "metadata": {
    "ExecuteTime": {
     "end_time": "2023-10-16T06:32:32.356767300Z",
     "start_time": "2023-10-16T06:32:30.669019400Z"
    },
    "collapsed": true
   },
   "outputs": [],
   "source": [
    "import pandas as pd\n",
    "from sklearn.preprocessing import LabelEncoder\n",
    "from sklearn.model_selection import train_test_split\n",
    "from sklearn.ensemble import RandomForestClassifier\n",
    "from sklearn.metrics import classification_report, accuracy_score\n",
    "from sklearn.preprocessing import StandardScaler, OneHotEncoder\n",
    "from sklearn.linear_model import LogisticRegression"
   ]
  },
  {
   "cell_type": "markdown",
   "id": "fabd4c4e",
   "metadata": {},
   "source": [
    "### Load data and convert it to standard form"
   ]
  },
  {
   "cell_type": "code",
   "execution_count": 16,
   "id": "871a257f0cb8255b",
   "metadata": {
    "ExecuteTime": {
     "end_time": "2023-10-14T14:22:20.407422100Z",
     "start_time": "2023-10-14T14:22:20.143452400Z"
    },
    "collapsed": false
   },
   "outputs": [],
   "source": [
    "Dataframe = pd.read_csv(\"dataset_corrected_updated.csv\").dropna()\n",
    "Dataframe['Date'] = pd.to_datetime(Dataframe['Date'], format='%m/%d/%Y').dt.strftime('%Y-%m-%d')\n",
    "label_encoder = LabelEncoder()\n",
    "Dataframe['city_encoded'] = label_encoder.fit_transform(Dataframe['City'])\n",
    "Dataframe['Date'] = pd.to_datetime(Dataframe['Date'])\n",
    "Dataframe['timestamp'] = Dataframe['Date'].apply(lambda x: x.timestamp())\n",
    "# Dataframe"
   ]
  },
  {
   "cell_type": "code",
   "execution_count": 17,
   "id": "4d94221a98985531",
   "metadata": {
    "ExecuteTime": {
     "end_time": "2023-10-14T14:22:20.930967600Z",
     "start_time": "2023-10-14T14:22:20.748564600Z"
    },
    "collapsed": false
   },
   "outputs": [],
   "source": [
    "# Dataframe = pd.read_csv(\"Dataset_Connection_Issues.csv\").dropna()\n",
    "# Dataframe['Date'] = pd.to_datetime(Dataframe['Date'], format='%m/%d/%Y').dt.strftime('%Y-%m-%d')\n",
    "# label_encoder = LabelEncoder()\n",
    "# Dataframe['city_encoded'] = label_encoder.fit_transform(Dataframe['City'])\n",
    "# Dataframe['Date'] = pd.to_datetime(Dataframe['Date'])\n",
    "# Dataframe['timestamp'] = Dataframe['Date'].apply(lambda x: x.timestamp())\n",
    "# Dataframe"
   ]
  },
  {
   "cell_type": "markdown",
   "id": "d0298a55",
   "metadata": {},
   "source": [
    "### Define some thresholds to help in detecting"
   ]
  },
  {
   "cell_type": "code",
   "execution_count": 18,
   "id": "b953a3ec22320159",
   "metadata": {
    "ExecuteTime": {
     "end_time": "2023-10-14T14:22:21.535393100Z",
     "start_time": "2023-10-14T14:22:21.533371700Z"
    },
    "collapsed": false
   },
   "outputs": [],
   "source": [
    "Thresholds = {\n",
    "    \"DNS_Response_Time\": 500,\n",
    "    \"Response_Service_Disruptions\": 2,\n",
    "    \"Anomaly_Upload_Download_Ratio\": 1.5,\n",
    "    \"Consistency_External_Connections\": 0.5,\n",
    "    \"Change_Traffic_Type\": 10,\n",
    "    \"Latency_Variability\": 50,\n",
    "    \"Changes_Network_Topology\": 5,\n",
    "    \"Throttling_Traffic_Management\": 3,\n",
    "    \"End_Point_Issues\": 10,\n",
    "    \"Network_Jitter\": 30,\n",
    "    # \"Historical_Data_Analysis\": 0.6,\n",
    "    \"Server_Response_Time\": 1000,\n",
    "    \"Correlation_Third_Party_Services\": 0.7,\n",
    "    # \"Frequent_IP_Address_Changes\": 10,\n",
    "    # \"Unplanned_Maintenance\": 3,\n",
    "    \"Comparative_Subnet_Performance\": 0.5,\n",
    "    \"Connection_Drops_Handovers\": 5\n",
    "}\n"
   ]
  },
  {
   "cell_type": "markdown",
   "id": "76550fab",
   "metadata": {},
   "source": [
    "### Define function for detecting"
   ]
  },
  {
   "cell_type": "code",
   "execution_count": 27,
   "id": "9afdbd3279289d94",
   "metadata": {
    "ExecuteTime": {
     "end_time": "2023-10-14T14:35:41.014443900Z",
     "start_time": "2023-10-14T14:35:39.196664500Z"
    },
    "collapsed": false
   },
   "outputs": [
    {
     "data": {
      "text/html": [
       "<div>\n",
       "<style scoped>\n",
       "    .dataframe tbody tr th:only-of-type {\n",
       "        vertical-align: middle;\n",
       "    }\n",
       "\n",
       "    .dataframe tbody tr th {\n",
       "        vertical-align: top;\n",
       "    }\n",
       "\n",
       "    .dataframe thead th {\n",
       "        text-align: right;\n",
       "    }\n",
       "</style>\n",
       "<table border=\"1\" class=\"dataframe\">\n",
       "  <thead>\n",
       "    <tr style=\"text-align: right;\">\n",
       "      <th></th>\n",
       "      <th>Date</th>\n",
       "      <th>City</th>\n",
       "      <th>Time</th>\n",
       "      <th>Issue</th>\n",
       "    </tr>\n",
       "  </thead>\n",
       "  <tbody>\n",
       "    <tr>\n",
       "      <th>0</th>\n",
       "      <td>2023-09-01</td>\n",
       "      <td>Tehran</td>\n",
       "      <td>12:00:00 AM</td>\n",
       "      <td>{'Response_Service_Disruptions': 7.0, 'Consist...</td>\n",
       "    </tr>\n",
       "    <tr>\n",
       "      <th>1</th>\n",
       "      <td>2023-09-01</td>\n",
       "      <td>Tehran</td>\n",
       "      <td>12:10:00 AM</td>\n",
       "      <td>{'Response_Service_Disruptions': 23.0, 'Consis...</td>\n",
       "    </tr>\n",
       "    <tr>\n",
       "      <th>2</th>\n",
       "      <td>2023-09-01</td>\n",
       "      <td>Tehran</td>\n",
       "      <td>12:20:00 AM</td>\n",
       "      <td>{'Response_Service_Disruptions': 50.0, 'Consis...</td>\n",
       "    </tr>\n",
       "    <tr>\n",
       "      <th>3</th>\n",
       "      <td>2023-09-01</td>\n",
       "      <td>Tehran</td>\n",
       "      <td>12:30:00 AM</td>\n",
       "      <td>{'Response_Service_Disruptions': 19.0, 'Consis...</td>\n",
       "    </tr>\n",
       "    <tr>\n",
       "      <th>4</th>\n",
       "      <td>2023-09-01</td>\n",
       "      <td>Tehran</td>\n",
       "      <td>12:40:00 AM</td>\n",
       "      <td>{'Response_Service_Disruptions': 69.0, 'Consis...</td>\n",
       "    </tr>\n",
       "    <tr>\n",
       "      <th>...</th>\n",
       "      <td>...</td>\n",
       "      <td>...</td>\n",
       "      <td>...</td>\n",
       "      <td>...</td>\n",
       "    </tr>\n",
       "    <tr>\n",
       "      <th>995</th>\n",
       "      <td>2023-09-07</td>\n",
       "      <td>Tehran</td>\n",
       "      <td>9:50:00 PM</td>\n",
       "      <td>{'Response_Service_Disruptions': 22.0, 'Consis...</td>\n",
       "    </tr>\n",
       "    <tr>\n",
       "      <th>996</th>\n",
       "      <td>2023-09-07</td>\n",
       "      <td>Tehran</td>\n",
       "      <td>10:00:00 PM</td>\n",
       "      <td>{'Response_Service_Disruptions': 86.0, 'Consis...</td>\n",
       "    </tr>\n",
       "    <tr>\n",
       "      <th>997</th>\n",
       "      <td>2023-09-07</td>\n",
       "      <td>Tehran</td>\n",
       "      <td>10:10:00 PM</td>\n",
       "      <td>{'Response_Service_Disruptions': 67.0, 'Consis...</td>\n",
       "    </tr>\n",
       "    <tr>\n",
       "      <th>998</th>\n",
       "      <td>2023-09-07</td>\n",
       "      <td>Tehran</td>\n",
       "      <td>10:20:00 PM</td>\n",
       "      <td>{'Response_Service_Disruptions': 22.0, 'Consis...</td>\n",
       "    </tr>\n",
       "    <tr>\n",
       "      <th>999</th>\n",
       "      <td>2023-09-07</td>\n",
       "      <td>Tehran</td>\n",
       "      <td>10:30:00 PM</td>\n",
       "      <td>{'Response_Service_Disruptions': 21.0, 'Consis...</td>\n",
       "    </tr>\n",
       "  </tbody>\n",
       "</table>\n",
       "<p>1000 rows × 4 columns</p>\n",
       "</div>"
      ],
      "text/plain": [
       "          Date    City         Time  \\\n",
       "0   2023-09-01  Tehran  12:00:00 AM   \n",
       "1   2023-09-01  Tehran  12:10:00 AM   \n",
       "2   2023-09-01  Tehran  12:20:00 AM   \n",
       "3   2023-09-01  Tehran  12:30:00 AM   \n",
       "4   2023-09-01  Tehran  12:40:00 AM   \n",
       "..         ...     ...          ...   \n",
       "995 2023-09-07  Tehran   9:50:00 PM   \n",
       "996 2023-09-07  Tehran  10:00:00 PM   \n",
       "997 2023-09-07  Tehran  10:10:00 PM   \n",
       "998 2023-09-07  Tehran  10:20:00 PM   \n",
       "999 2023-09-07  Tehran  10:30:00 PM   \n",
       "\n",
       "                                                 Issue  \n",
       "0    {'Response_Service_Disruptions': 7.0, 'Consist...  \n",
       "1    {'Response_Service_Disruptions': 23.0, 'Consis...  \n",
       "2    {'Response_Service_Disruptions': 50.0, 'Consis...  \n",
       "3    {'Response_Service_Disruptions': 19.0, 'Consis...  \n",
       "4    {'Response_Service_Disruptions': 69.0, 'Consis...  \n",
       "..                                                 ...  \n",
       "995  {'Response_Service_Disruptions': 22.0, 'Consis...  \n",
       "996  {'Response_Service_Disruptions': 86.0, 'Consis...  \n",
       "997  {'Response_Service_Disruptions': 67.0, 'Consis...  \n",
       "998  {'Response_Service_Disruptions': 22.0, 'Consis...  \n",
       "999  {'Response_Service_Disruptions': 21.0, 'Consis...  \n",
       "\n",
       "[1000 rows x 4 columns]"
      ]
     },
     "execution_count": 27,
     "metadata": {},
     "output_type": "execute_result"
    }
   ],
   "source": [
    "def detect_issues(row):\n",
    "    issues = {feature: row[feature] for feature, threshold in Thresholds.items() if row[feature] > threshold}\n",
    "    return (issues)\n",
    "Dataframe['Issue'] = Dataframe.apply(detect_issues, axis=1)\n",
    "Dataframe[['Date','City', 'Time', 'Issue']].head(1000)"
   ]
  },
  {
   "cell_type": "code",
   "execution_count": 20,
   "id": "a3658ae378ae1415",
   "metadata": {
    "ExecuteTime": {
     "end_time": "2023-10-14T14:22:32.006902400Z",
     "start_time": "2023-10-14T14:22:30.310724600Z"
    },
    "collapsed": false
   },
   "outputs": [
    {
     "data": {
      "text/html": [
       "<div>\n",
       "<style scoped>\n",
       "    .dataframe tbody tr th:only-of-type {\n",
       "        vertical-align: middle;\n",
       "    }\n",
       "\n",
       "    .dataframe tbody tr th {\n",
       "        vertical-align: top;\n",
       "    }\n",
       "\n",
       "    .dataframe thead th {\n",
       "        text-align: right;\n",
       "    }\n",
       "</style>\n",
       "<table border=\"1\" class=\"dataframe\">\n",
       "  <thead>\n",
       "    <tr style=\"text-align: right;\">\n",
       "      <th></th>\n",
       "      <th>Date</th>\n",
       "      <th>Time</th>\n",
       "      <th>Issue</th>\n",
       "      <th>Label</th>\n",
       "    </tr>\n",
       "  </thead>\n",
       "  <tbody>\n",
       "    <tr>\n",
       "      <th>0</th>\n",
       "      <td>2023-09-01</td>\n",
       "      <td>12:00:00 AM</td>\n",
       "      <td>{'Response_Service_Disruptions': 7.0, 'Consist...</td>\n",
       "      <td>{'Response_Service_Disruptions': 7.0, 'Consist...</td>\n",
       "    </tr>\n",
       "    <tr>\n",
       "      <th>1</th>\n",
       "      <td>2023-09-01</td>\n",
       "      <td>12:10:00 AM</td>\n",
       "      <td>{'Response_Service_Disruptions': 23.0, 'Consis...</td>\n",
       "      <td>{'Response_Service_Disruptions': 23.0, 'Consis...</td>\n",
       "    </tr>\n",
       "    <tr>\n",
       "      <th>2</th>\n",
       "      <td>2023-09-01</td>\n",
       "      <td>12:20:00 AM</td>\n",
       "      <td>{'Response_Service_Disruptions': 50.0, 'Consis...</td>\n",
       "      <td>{'Response_Service_Disruptions': 50.0, 'Consis...</td>\n",
       "    </tr>\n",
       "    <tr>\n",
       "      <th>3</th>\n",
       "      <td>2023-09-01</td>\n",
       "      <td>12:30:00 AM</td>\n",
       "      <td>{'Response_Service_Disruptions': 19.0, 'Consis...</td>\n",
       "      <td>{'Response_Service_Disruptions': 19.0, 'Consis...</td>\n",
       "    </tr>\n",
       "    <tr>\n",
       "      <th>4</th>\n",
       "      <td>2023-09-01</td>\n",
       "      <td>12:40:00 AM</td>\n",
       "      <td>{'Response_Service_Disruptions': 69.0, 'Consis...</td>\n",
       "      <td>{'Response_Service_Disruptions': 69.0, 'Consis...</td>\n",
       "    </tr>\n",
       "  </tbody>\n",
       "</table>\n",
       "</div>"
      ],
      "text/plain": [
       "        Date         Time                                              Issue  \\\n",
       "0 2023-09-01  12:00:00 AM  {'Response_Service_Disruptions': 7.0, 'Consist...   \n",
       "1 2023-09-01  12:10:00 AM  {'Response_Service_Disruptions': 23.0, 'Consis...   \n",
       "2 2023-09-01  12:20:00 AM  {'Response_Service_Disruptions': 50.0, 'Consis...   \n",
       "3 2023-09-01  12:30:00 AM  {'Response_Service_Disruptions': 19.0, 'Consis...   \n",
       "4 2023-09-01  12:40:00 AM  {'Response_Service_Disruptions': 69.0, 'Consis...   \n",
       "\n",
       "                                               Label  \n",
       "0  {'Response_Service_Disruptions': 7.0, 'Consist...  \n",
       "1  {'Response_Service_Disruptions': 23.0, 'Consis...  \n",
       "2  {'Response_Service_Disruptions': 50.0, 'Consis...  \n",
       "3  {'Response_Service_Disruptions': 19.0, 'Consis...  \n",
       "4  {'Response_Service_Disruptions': 69.0, 'Consis...  "
      ]
     },
     "execution_count": 20,
     "metadata": {},
     "output_type": "execute_result"
    }
   ],
   "source": [
    "Dataframe['Issue'] = Dataframe.apply(detect_issues , axis=1)\n",
    "Dataframe['Label'] = Dataframe['Issue'].apply(lambda x:x if x is not None else 'None Issue')\n",
    "Dataframe[['Date' , 'Time' , 'Issue' , 'Label']].head()"
   ]
  },
  {
   "cell_type": "markdown",
   "id": "09a5924f",
   "metadata": {},
   "source": [
    "### Split data for train and test"
   ]
  },
  {
   "cell_type": "code",
   "execution_count": 12,
   "id": "d39fe657529c2cfe",
   "metadata": {
    "ExecuteTime": {
     "end_time": "2023-10-14T14:21:15.339094900Z",
     "start_time": "2023-10-14T14:21:15.316600600Z"
    },
    "collapsed": false
   },
   "outputs": [
    {
     "data": {
      "text/plain": [
       "((34434, 19), (8609, 19))"
      ]
     },
     "execution_count": 12,
     "metadata": {},
     "output_type": "execute_result"
    }
   ],
   "source": [
    "X = Dataframe.drop(columns=['City', 'Date', 'Time', 'Issue','Label'])\n",
    "y = Dataframe['Label']\n",
    "X_train, X_test, y_train, y_test = train_test_split(X, y, test_size=0.2, random_state=42)\n",
    "X_train.shape, X_test.shape"
   ]
  },
  {
   "cell_type": "markdown",
   "id": "2a5fd7ce",
   "metadata": {},
   "source": [
    "### Train and predict with model"
   ]
  },
  {
   "cell_type": "code",
   "execution_count": null,
   "id": "6b56e8bfa3d2aec7",
   "metadata": {
    "ExecuteTime": {
     "end_time": "2023-10-14T14:26:00.152375900Z",
     "start_time": "2023-10-14T14:26:00.040273600Z"
    },
    "collapsed": false
   },
   "outputs": [],
   "source": [
    "# clf = RandomForestClassifier(n_estimators=100, random_state=42)\n",
    "# clf.fit(X_train_filled, y_train)\n",
    "scaler = StandardScaler()\n",
    "X_train = scaler.fit_transform(X_train)\n",
    "X_test = scaler.transform(X_test)\n",
    "\n",
    "# Train model\n",
    "clf = LogisticRegression(multi_class='multinomial', solver='lbfgs', max_iter=1000)\n",
    "clf.fit(X_train, y_train)\n",
    "# Predict on the testing set\n",
    "\n",
    "y_pred = clf.predict(X_test)\n",
    "# Evaluate the model's performance \n",
    "accuracy = accuracy_score(y_test, y_pred)\n",
    "# classification_rep = classification_report(y_test, y_pred)\n",
    "print(f\"Accuracy: {accuracy:.4f}\")"
   ]
  },
  {
   "cell_type": "markdown",
   "id": "ebcc89ed",
   "metadata": {},
   "source": [
    "### Test the trained model"
   ]
  },
  {
   "cell_type": "code",
   "execution_count": null,
   "id": "df489e99be68aab1",
   "metadata": {
    "collapsed": false
   },
   "outputs": [],
   "source": [
    "sample_data = X_test_filled.sample(500, random_state=30)\n",
    "\n",
    "# Use the trained model to predict issues\n",
    "predicted_issues = clf.predict(sample_data)\n",
    "\n",
    "# Create a DataFrame to display the results\n",
    "results_df = sample_data.copy()\n",
    "results_df['Predicted_Issue'] = predicted_issues\n",
    "\n",
    "# Use the reporting function for each predict ed issue\n",
    "results_df['Report'] = results_df.index.map(lambda idx: report_previous_issue(Dataframe.loc[idx, 'Time']))\n",
    "\n",
    "results_df[['city_encoded','Predicted_Issue', 'Report']]"
   ]
  }
 ],
 "metadata": {
  "kernelspec": {
   "display_name": "Python 3",
   "language": "python",
   "name": "python3"
  },
  "language_info": {
   "codemirror_mode": {
    "name": "ipython",
    "version": 2
   },
   "file_extension": ".py",
   "mimetype": "text/x-python",
   "name": "python",
   "nbconvert_exporter": "python",
   "pygments_lexer": "ipython2",
   "version": "3.11.5"
  }
 },
 "nbformat": 4,
 "nbformat_minor": 5
}
