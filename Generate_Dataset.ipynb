{
 "cells": [
  {
   "cell_type": "code",
   "execution_count": null,
   "id": "initial_id",
   "metadata": {
    "collapsed": true
   },
   "outputs": [],
   "source": [
    "import pandas as pd\n",
    "import random\n",
    "import string\n",
    "from datetime import datetime, timedelta\n",
    "\n",
    "# Number of rows\n",
    "n = 100000\n",
    "\n",
    "# Generate id column\n",
    "ids = list(range(1000, 1000 + n))\n",
    "\n",
    "# Generate cid column (random integers)\n",
    "cids = [random.randint(1, n) for _ in range(n)]\n",
    "\n",
    "# Generate uuid column ensuring uniqueness\n",
    "uuids = set()\n",
    "while len(uuids) < n:\n",
    "    uuid = ''.join(random.choice(string.ascii_letters + string.digits) for _ in range(10))\n",
    "    uuids.add(uuid)\n",
    "uuids = list(uuids)\n",
    "\n",
    "# Generate date and time columns\n",
    "dates = [datetime(2023, 9, (i % 7) + 1) for i in range(n)]\n",
    "times = [(datetime.min + timedelta(seconds=i % (24*60*60))).time() for i in range(n)]\n",
    "\n",
    "# Create the dataframe\n",
    "df = pd.DataFrame({\n",
    "    'id': ids,\n",
    "    'cid': cids,\n",
    "    'uuid': uuids,\n",
    "    'date': dates,\n",
    "    'time': times\n",
    "})\n",
    "df.head()"
   ]
  },
  {
   "cell_type": "code",
   "execution_count": null,
   "id": "c6208cefd2daa969",
   "metadata": {
    "collapsed": false
   },
   "outputs": [],
   "source": [
    "# Regenerating the date and time columns\n",
    "\n",
    "# Number of seconds in a day\n",
    "seconds_in_day = 24*60*60\n",
    "\n",
    "# Generate structured dates and times\n",
    "dates = []\n",
    "times = []\n",
    "\n",
    "for i in range(n):\n",
    "    day = (i // seconds_in_day) % 7 + 1\n",
    "    current_date = datetime(2023, 9, day)\n",
    "    current_time = (datetime.min + timedelta(seconds=i % seconds_in_day)).time()\n",
    "    \n",
    "    dates.append(current_date)\n",
    "    times.append(current_time.strftime('%I:%M:%S %p'))\n",
    "\n",
    "df['date'] = dates\n",
    "df['time'] = times\n",
    "\n",
    "# Saving the adjusted dataframe to a CSV file\n",
    "file_path_adjusted = \"/mnt/data/dataset_adjusted.csv\"\n",
    "df.to_csv(file_path_adjusted, index=False)\n",
    "\n",
    "df.head()\n"
   ]
  },
  {
   "cell_type": "code",
   "execution_count": null,
   "id": "624855b1b199f62a",
   "metadata": {
    "collapsed": false
   },
   "outputs": [],
   "source": [
    "# Generate the correct dataset with the desired date range\n",
    "\n",
    "# Number of days\n",
    "days = 8\n",
    "\n",
    "# Total rows needed\n",
    "total_rows = days * seconds_in_day\n",
    "\n",
    "# Generate id column\n",
    "ids = list(range(1000, 1000 + total_rows))\n",
    "\n",
    "# Generate cid column (random integers)\n",
    "cids = [random.randint(1, total_rows) for _ in range(total_rows)]\n",
    "\n",
    "# Generate unique uuids\n",
    "uuids_set = set()\n",
    "while len(uuids_set) < total_rows:\n",
    "    uuid = ''.join(random.choice(string.ascii_letters + string.digits) for _ in range(10))\n",
    "    uuids_set.add(uuid)\n",
    "uuids = list(uuids_set)\n",
    "\n",
    "# Generate structured dates and times\n",
    "dates = [start_date + timedelta(days=(i // seconds_in_day)) for i in range(total_rows)]\n",
    "times = [(datetime.min + timedelta(seconds=i % seconds_in_day)).time().strftime('%I:%M:%S %p') for i in range(total_rows)]\n",
    "\n",
    "# Create the corrected dataframe\n",
    "df_corrected = pd.DataFrame({\n",
    "    'id': ids,\n",
    "    'cid': cids,\n",
    "    'uuid': uuids,\n",
    "    'date': dates,\n",
    "    'time': times\n",
    "})\n",
    "\n",
    "# Adjusting the date format to MM/DD/YYYY\n",
    "df_corrected['date'] = df_corrected['date'].dt.strftime('%m/%d/%Y')\n",
    "\n",
    "# Save the corrected dataframe\n",
    "file_path_corrected_final = \"/mnt/data/dataset_corrected_final.csv\"\n",
    "df_corrected.to_csv(file_path_corrected_final, index=False)\n",
    "\n",
    "df_corrected['date'].unique()  # Displaying unique dates to verify the range\n"
   ]
  }
 ],
 "metadata": {
  "kernelspec": {
   "display_name": "Python 3",
   "language": "python",
   "name": "python3"
  },
  "language_info": {
   "codemirror_mode": {
    "name": "ipython",
    "version": 2
   },
   "file_extension": ".py",
   "mimetype": "text/x-python",
   "name": "python",
   "nbconvert_exporter": "python",
   "pygments_lexer": "ipython2",
   "version": "2.7.6"
  }
 },
 "nbformat": 4,
 "nbformat_minor": 5
}
